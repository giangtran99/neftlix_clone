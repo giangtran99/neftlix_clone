{
 "cells": [
  {
   "cell_type": "code",
   "execution_count": 7,
   "source": [
    "from numpy import linalg as LA\r\n",
    "import numpy as np\r\n",
    "\r\n",
    "arr = np.array([[1,2],[3,4]])\r\n",
    "U, S, V = LA.svd(arr)\r\n",
    "# print(U)\r\n",
    "# print(S)\r\n",
    "# print(V)\r\n",
    "print(np.dot(U,np.diag(S)).dot(V))"
   ],
   "outputs": [
    {
     "output_type": "stream",
     "name": "stdout",
     "text": [
      "[[1. 2.]\n",
      " [3. 4.]]\n"
     ]
    }
   ],
   "metadata": {}
  }
 ],
 "metadata": {
  "orig_nbformat": 4,
  "language_info": {
   "name": "python",
   "version": "3.7.9",
   "mimetype": "text/x-python",
   "codemirror_mode": {
    "name": "ipython",
    "version": 3
   },
   "pygments_lexer": "ipython3",
   "nbconvert_exporter": "python",
   "file_extension": ".py"
  },
  "kernelspec": {
   "name": "python3",
   "display_name": "Python 3.7.9 64-bit"
  },
  "interpreter": {
   "hash": "b5d08ec1f72da9af9cb2ad7e7ce01188736540aab3d3bd558d2fbaeb66f9e514"
  }
 },
 "nbformat": 4,
 "nbformat_minor": 2
}