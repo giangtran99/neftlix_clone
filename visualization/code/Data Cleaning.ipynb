{
 "cells": [
  {
   "cell_type": "code",
   "execution_count": 229,
   "metadata": {
    "collapsed": true
   },
   "outputs": [],
   "source": [
    "import pandas as pd\n",
    "import numpy as np\n",
    "import json"
   ]
  },
  {
   "cell_type": "code",
   "execution_count": 230,
   "metadata": {},
   "outputs": [],
   "source": [
    "movie_df = pd.read_json('../data/data/tmdb-movies.json')"
   ]
  },
  {
   "cell_type": "code",
   "execution_count": 231,
   "metadata": {
    "scrolled": true
   },
   "outputs": [
    {
     "name": "stdout",
     "output_type": "stream",
     "text": [
      "<class 'pandas.core.frame.DataFrame'>\n",
      "RangeIndex: 10866 entries, 0 to 10865\n",
      "Data columns (total 21 columns):\n",
      " #   Column                Non-Null Count  Dtype  \n",
      "---  ------                --------------  -----  \n",
      " 0   _id                   10866 non-null  int64  \n",
      " 1   imdb_id               10866 non-null  object \n",
      " 2   popularity            10866 non-null  float64\n",
      " 3   budget                10866 non-null  int64  \n",
      " 4   revenue               10866 non-null  int64  \n",
      " 5   original_title        10866 non-null  object \n",
      " 6   cast                  10866 non-null  object \n",
      " 7   homepage              10866 non-null  object \n",
      " 8   director              10866 non-null  object \n",
      " 9   tagline               10866 non-null  object \n",
      " 10  keywords              10866 non-null  object \n",
      " 11  overview              10866 non-null  object \n",
      " 12  runtime               10866 non-null  int64  \n",
      " 13  genres                10866 non-null  object \n",
      " 14  production_companies  10866 non-null  object \n",
      " 15  release_date          10866 non-null  object \n",
      " 16  vote_count            10866 non-null  int64  \n",
      " 17  vote_average          10866 non-null  float64\n",
      " 18  release_year          10866 non-null  int64  \n",
      " 19  budget_adj            10866 non-null  float64\n",
      " 20  revenue_adj           10866 non-null  float64\n",
      "dtypes: float64(4), int64(6), object(11)\n",
      "memory usage: 1.7+ MB\n"
     ]
    }
   ],
   "source": [
    "movie_df.info()"
   ]
  },
  {
   "cell_type": "markdown",
   "metadata": {},
   "source": [
    "### Handling Missing Values"
   ]
  },
  {
   "cell_type": "code",
   "execution_count": 232,
   "metadata": {},
   "outputs": [
    {
     "data": {
      "text/plain": [
       "0        1513528810\n",
       "1         378436354\n",
       "2         295238201\n",
       "3        2068178225\n",
       "4        1506249360\n",
       "            ...    \n",
       "10861             0\n",
       "10862             0\n",
       "10863             0\n",
       "10864         32131\n",
       "10865        321312\n",
       "Name: revenue, Length: 10866, dtype: int64"
      ]
     },
     "execution_count": 232,
     "metadata": {},
     "output_type": "execute_result"
    }
   ],
   "source": [
    "movie_df['revenue']"
   ]
  },
  {
   "cell_type": "code",
   "execution_count": 233,
   "metadata": {},
   "outputs": [],
   "source": [
    "movie_df[movie_df['revenue'] == 0 ].count()\n",
    "del movie_df[\"tagline\"], movie_df[\"homepage\"]"
   ]
  },
  {
   "cell_type": "code",
   "execution_count": 234,
   "metadata": {},
   "outputs": [],
   "source": [
    "# Lọc dữ liệu bẩn theo điều kiên\n",
    "movie_df = movie_df[movie_df['revenue'] !=0 ]\n",
    "movie_df = movie_df[movie_df['revenue_adj'] !=0 ]\n"
   ]
  },
  {
   "cell_type": "code",
   "execution_count": 235,
   "metadata": {
    "collapsed": true
   },
   "outputs": [],
   "source": [
    "movie_df = movie_df.replace([{'$numberDouble': 'NaN'}],\"non-director\")\n",
    "movie_df = movie_df[movie_df['director'] != \"non-director\" ]\n"
   ]
  },
  {
   "cell_type": "code",
   "execution_count": 236,
   "metadata": {
    "collapsed": true
   },
   "outputs": [
    {
     "name": "stdout",
     "output_type": "stream",
     "text": [
      "<class 'pandas.core.frame.DataFrame'>\n",
      "Int64Index: 4849 entries, 0 to 10865\n",
      "Data columns (total 19 columns):\n",
      " #   Column                Non-Null Count  Dtype  \n",
      "---  ------                --------------  -----  \n",
      " 0   _id                   4849 non-null   int64  \n",
      " 1   imdb_id               4849 non-null   object \n",
      " 2   popularity            4849 non-null   float64\n",
      " 3   budget                4849 non-null   int64  \n",
      " 4   revenue               4849 non-null   int64  \n",
      " 5   original_title        4849 non-null   object \n",
      " 6   cast                  4849 non-null   object \n",
      " 7   director              4849 non-null   object \n",
      " 8   keywords              4849 non-null   object \n",
      " 9   overview              4849 non-null   object \n",
      " 10  runtime               4849 non-null   int64  \n",
      " 11  genres                4849 non-null   object \n",
      " 12  production_companies  4849 non-null   object \n",
      " 13  release_date          4849 non-null   object \n",
      " 14  vote_count            4849 non-null   int64  \n",
      " 15  vote_average          4849 non-null   float64\n",
      " 16  release_year          4849 non-null   int64  \n",
      " 17  budget_adj            4849 non-null   float64\n",
      " 18  revenue_adj           4849 non-null   float64\n",
      "dtypes: float64(4), int64(6), object(9)\n",
      "memory usage: 757.7+ KB\n"
     ]
    }
   ],
   "source": [
    "\n",
    "#Điền giá trị nan\n",
    "movie_df = movie_df.fillna(method='pad')\n",
    "# Xóa các bản ghi mất dữ liệu\n",
    "movie_df.dropna(inplace=True)\n",
    "movie_df.info()"
   ]
  },
  {
   "cell_type": "code",
   "execution_count": 237,
   "metadata": {},
   "outputs": [],
   "source": [
    "# filter2.head(2)"
   ]
  },
  {
   "cell_type": "code",
   "execution_count": 238,
   "metadata": {
    "collapsed": true
   },
   "outputs": [],
   "source": [
    "# filter2.to_json(\"../data/Cleaned_Data.json\", index = None)\n",
    "movie_df.to_csv(\"../data/Cleaned_Data.csv\", index = None)\n"
   ]
  }
 ],
 "metadata": {
  "hide_input": false,
  "kernelspec": {
   "display_name": "Python 3",
   "language": "python",
   "name": "python3"
  },
  "language_info": {
   "codemirror_mode": {
    "name": "ipython",
    "version": 3
   },
   "file_extension": ".py",
   "mimetype": "text/x-python",
   "name": "python",
   "nbconvert_exporter": "python",
   "pygments_lexer": "ipython3",
   "version": "3.9.9"
  }
 },
 "nbformat": 4,
 "nbformat_minor": 2
}
